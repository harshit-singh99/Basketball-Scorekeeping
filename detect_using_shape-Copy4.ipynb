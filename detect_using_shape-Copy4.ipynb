{
 "cells": [
  {
   "cell_type": "code",
   "execution_count": 1,
   "metadata": {},
   "outputs": [],
   "source": [
    "from collections import deque\n",
    "from imutils.video import VideoStream\n",
    "import numpy as np\n",
    "import argparse\n",
    "import cv2\n",
    "import imutils\n",
    "import time\n",
    "from shapedetector import ShapeDetector"
   ]
  },
  {
   "cell_type": "code",
   "execution_count": 2,
   "metadata": {},
   "outputs": [],
   "source": [
    "vs = cv2.VideoCapture('./dsaa videos/vid3.mp4')\n",
    "#time.sleep(2.0)"
   ]
  },
  {
   "cell_type": "code",
   "execution_count": 3,
   "metadata": {},
   "outputs": [],
   "source": [
    "# def onMouse(event, x, y, flags, param):\n",
    "\n",
    "#     if event == cv2.EVENT_LBUTTONDOWN:\n",
    "#         # draw circle here (etc...)\n",
    "#         print(x, y)\n",
    "#         return(x, y)\n",
    "\n",
    "# frame = vs.read()[1]\n",
    "# cv2.namedWindow('image', cv2.WINDOW_NORMAL)\n",
    "# cv2.imshow('image',frame)\n",
    "# location_of_basket = cv2.setMouseCallback('image', onMouse)\n",
    "# print(location_of_basket)"
   ]
  },
  {
   "cell_type": "code",
   "execution_count": 4,
   "metadata": {},
   "outputs": [],
   "source": [
    "position_of_basket = (395, 200)\n",
    "radius_of_basket = 15"
   ]
  },
  {
   "cell_type": "code",
   "execution_count": 5,
   "metadata": {},
   "outputs": [
    {
     "name": "stdout",
     "output_type": "stream",
     "text": [
      "score\n",
      "score\n"
     ]
    }
   ],
   "source": [
    "radii = []\n",
    "recently_scored = 0\n",
    "while True:\n",
    "    image = vs.read()[1]\n",
    "    if image is None:\n",
    "        break\n",
    "    resized = imutils.resize(image, width=300)\n",
    "    ratio = image.shape[0] / float(resized.shape[0])\n",
    " \n",
    "    # convert the resized image to grayscale, blur it slightly,\n",
    "    # and threshold it\n",
    "    gray = cv2.cvtColor(resized, cv2.COLOR_BGR2GRAY)\n",
    "    blurred = cv2.GaussianBlur(gray, (5, 5), 0)\n",
    "    thresh = cv2.threshold(blurred, 60, 255, cv2.THRESH_BINARY)[1]\n",
    "    thresh = cv2.bitwise_not(thresh)\n",
    "    cv2.imshow('thresh', thresh)\n",
    "    # find contours in the thresholded image and initialize the\n",
    "    # shape detector\n",
    "    cnts = cv2.findContours(thresh.copy(), cv2.RETR_EXTERNAL,\n",
    "        cv2.CHAIN_APPROX_SIMPLE)\n",
    "    cnts = imutils.grab_contours(cnts)\n",
    "    sd = ShapeDetector()\n",
    "    # loop over the contours\n",
    "\n",
    "    for c in cnts:\n",
    "        # compute the center of the contour, then detect the name of the\n",
    "        # shape using only the contour\n",
    "        M = cv2.moments(c)\n",
    "        if M[\"m00\"] != 0:\n",
    "            cX = int((M[\"m10\"] / M[\"m00\"]) * ratio)\n",
    "            cY = int((M[\"m01\"] / M[\"m00\"]) * ratio)\n",
    "            \n",
    "            shape = sd.detect(c)\n",
    "            \n",
    "            if shape != 'circle':\n",
    "                continue\n",
    "            \n",
    "            \n",
    "            #print(cv2.contourArea(c))\n",
    "            # multiply the contour (x, y)-coordinates by the resize ratio,\n",
    "            # then draw the contours and the name of the shape on the image\n",
    "            c = c.astype(\"float\")\n",
    "            c *= ratio\n",
    "            c = c.astype(\"int\")\n",
    "            \n",
    "            (x,y),radius = cv2.minEnclosingCircle(c)\n",
    "            center = (int(x),int(y))\n",
    "            radius = int(radius)\n",
    "            \n",
    "            \n",
    "            #size of ball\n",
    "            if radius>7 or radius < 2 :\n",
    "                continue\n",
    "            radii.append(radius)\n",
    "            \n",
    "            try:\n",
    "                ellipse = cv2.fitEllipse(c)\n",
    "                ((x, y), (ma, mix), angle) = ellipse\n",
    "                \n",
    "                if ma/mix > 8 or ma/mix < 0.8:\n",
    "                    #print(\"yes\")\n",
    "                    continue\n",
    "                #print(ma/mix)\n",
    "                cv2.ellipse(image, ellipse,(0, 0, 255),2)\n",
    "            except:\n",
    "                pass\n",
    "            \n",
    "            \n",
    "            #checking score\n",
    "            #320 316\n",
    "            #537 209\n",
    "            \n",
    "            dist_square = (position_of_basket[0] - center[0])**2 + (position_of_basket[1] - center[1])**2\n",
    "            score = dist_square < radius_of_basket**2\n",
    "            if score and recently_scored == 0:\n",
    "                print(\"score\")\n",
    "                recently_scored = 30\n",
    "            elif recently_scored != 0 and not score:\n",
    "                recently_scored -= 1\n",
    "            \n",
    "            cv2.circle(image,center,radius,(255,0,0),2)\n",
    "            \n",
    "            cv2.drawContours(image, [c], -1, (0, 255, 0), 2)\n",
    "            #cv2.putText(image, shape, (cX, cY), cv2.FONT_HERSHEY_SIMPLEX,\n",
    "            #    0.5, (255, 255, 255), 2)\n",
    " \n",
    "        # show the output image\n",
    "    cv2.circle(image, position_of_basket, 25, (255, 225, 0), 2)\n",
    "    cv2.imshow(\"Image\", image)\n",
    "    #    cv2.waitKey(0)\n",
    "        \n",
    "    key = cv2.waitKey(1) & 0xFF\n",
    " \n",
    "    # if the 'q' key is pressed, stop the loop\n",
    "    if key == ord(\"q\"):\n",
    "        break \n",
    "vs.release()\n",
    "cv2.destroyAllWindows()\n",
    "# radii = set(radii)\n",
    "# radii\n",
    "# no 2 baskets within 1 sec\n",
    "# collect data from different angles\n",
    "# injury detection"
   ]
  },
  {
   "cell_type": "code",
   "execution_count": null,
   "metadata": {},
   "outputs": [],
   "source": []
  }
 ],
 "metadata": {
  "kernelspec": {
   "display_name": "Python 3",
   "language": "python",
   "name": "python3"
  },
  "language_info": {
   "codemirror_mode": {
    "name": "ipython",
    "version": 3
   },
   "file_extension": ".py",
   "mimetype": "text/x-python",
   "name": "python",
   "nbconvert_exporter": "python",
   "pygments_lexer": "ipython3",
   "version": "3.6.7"
  }
 },
 "nbformat": 4,
 "nbformat_minor": 2
}
